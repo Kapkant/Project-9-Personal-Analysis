{
 "cells": [
  {
   "cell_type": "markdown",
   "id": "d199b423",
   "metadata": {},
   "source": [
    "# Project 9: A Data Analysis of Your Own\n",
    "By Arham Khan"
   ]
  },
  {
   "cell_type": "markdown",
   "id": "7bad2796",
   "metadata": {},
   "source": [
    "For my personal analysis, I explored the weather conditions in four cities: Los Angeles, Islamabad, Delhi and Seattle. South Asia has some of the worst air quality, particularly Delhi, which led me to this topic (and picking 2 South Asian capital cities to compare with 2 US cities). My objective was to compare their temperature and humidity, and provide insights into their climatic variations. I see this information being useful to a large audience, for someone conducting climate research, studying urban environment or just planning to travel!"
   ]
  },
  {
   "cell_type": "markdown",
   "id": "c7a8d884",
   "metadata": {},
   "source": [
    "Data Source:\n",
    "This data was obtained from the free OpenWeatherAPI, which provides current weather information on cities around the world. \n",
    "You can find out more or get your own key at: https://openweathermap.org/"
   ]
  },
  {
   "cell_type": "markdown",
   "id": "0e7cf7a4",
   "metadata": {},
   "source": [
    "Data Wrangling:\n",
    "The data given by the API included different weather parameters. I focused on the average temperature, maximum temperature, minimum temperature and humidity.\n",
    "The temperatures were given in Kelvin by default, so I converted them to Celsius for better readability. Next, this information was extracted and structured into a pandas datafame."
   ]
  },
  {
   "cell_type": "code",
   "execution_count": 42,
   "id": "a66fb2ce",
   "metadata": {},
   "outputs": [],
   "source": [
    "#import packages and libraries\n",
    "import requests\n",
    "import pandas as pd\n",
    "import matplotlib.pyplot as plt"
   ]
  },
  {
   "cell_type": "code",
   "execution_count": 40,
   "id": "a4a0ffa6",
   "metadata": {},
   "outputs": [],
   "source": [
    "apiKey = 'e8b8d3a6dbd0f65ee27cc77de38c88ab'\n",
    "apiURL = 'https://api.openweathermap.org/data/2.5/'\n",
    "cities = ['Los Angeles', 'Islamabad', 'Delhi', 'Seattle']"
   ]
  },
  {
   "cell_type": "code",
   "execution_count": 50,
   "id": "96addb45",
   "metadata": {},
   "outputs": [
    {
     "name": "stdout",
     "output_type": "stream",
     "text": [
      "Response for Los Angeles: {'coord': {'lon': -118.2437, 'lat': 34.0522}, 'weather': [{'id': 701, 'main': 'Mist', 'description': 'mist', 'icon': '50d'}], 'base': 'stations', 'main': {'temp': 288.26, 'feels_like': 288.15, 'temp_min': 286.87, 'temp_max': 289.5, 'pressure': 1015, 'humidity': 89}, 'visibility': 10000, 'wind': {'speed': 3.6, 'deg': 130}, 'clouds': {'all': 100}, 'dt': 1703086908, 'sys': {'type': 1, 'id': 3694, 'country': 'US', 'sunrise': 1703084045, 'sunset': 1703119617}, 'timezone': -28800, 'id': 5368361, 'name': 'Los Angeles', 'cod': 200}\n",
      "Response for Islamabad: {'coord': {'lon': 73.1338, 'lat': 33.7104}, 'weather': [{'id': 804, 'main': 'Clouds', 'description': 'overcast clouds', 'icon': '04n'}], 'base': 'stations', 'main': {'temp': 286.95, 'feels_like': 285.72, 'temp_min': 286.95, 'temp_max': 286.95, 'pressure': 1018, 'humidity': 51, 'sea_level': 1018, 'grnd_level': 957}, 'visibility': 10000, 'wind': {'speed': 1.33, 'deg': 337, 'gust': 1.46}, 'clouds': {'all': 100}, 'dt': 1703087113, 'sys': {'type': 2, 'id': 2007435, 'country': 'PK', 'sunrise': 1703038045, 'sunset': 1703073725}, 'timezone': 18000, 'id': 1162015, 'name': 'Islamabad', 'cod': 200}\n",
      "Response for Delhi: {'coord': {'lon': 77.2167, 'lat': 28.6667}, 'weather': [{'id': 721, 'main': 'Haze', 'description': 'haze', 'icon': '50n'}], 'base': 'stations', 'main': {'temp': 288.2, 'feels_like': 287.64, 'temp_min': 288.2, 'temp_max': 288.2, 'pressure': 1019, 'humidity': 72}, 'visibility': 2500, 'wind': {'speed': 1.54, 'deg': 240}, 'clouds': {'all': 40}, 'dt': 1703087089, 'sys': {'type': 1, 'id': 9165, 'country': 'IN', 'sunrise': 1703036338, 'sunset': 1703073471}, 'timezone': 19800, 'id': 1273294, 'name': 'Delhi', 'cod': 200}\n",
      "Response for Seattle: {'coord': {'lon': -122.3321, 'lat': 47.6062}, 'weather': [{'id': 701, 'main': 'Mist', 'description': 'mist', 'icon': '50n'}], 'base': 'stations', 'main': {'temp': 278.27, 'feels_like': 277.45, 'temp_min': 275.4, 'temp_max': 281.3, 'pressure': 1012, 'humidity': 94}, 'visibility': 10000, 'wind': {'speed': 1.34, 'deg': 66, 'gust': 1.79}, 'clouds': {'all': 0}, 'dt': 1703086695, 'sys': {'type': 2, 'id': 2041694, 'country': 'US', 'sunrise': 1703087650, 'sunset': 1703117974}, 'timezone': -28800, 'id': 5809844, 'name': 'Seattle', 'cod': 200}\n"
     ]
    }
   ],
   "source": [
    "def fetchWeather(city):\n",
    "    url = f'{apiURL}weather?q={city}&appid={apiKey}'\n",
    "    response = requests.get(url)\n",
    "    data = response.json()  # Corrected here: Added parentheses to call the method\n",
    "    return data\n",
    "\n",
    "weatherData = {}\n",
    "for city in cities:\n",
    "    weatherData[city] = fetchWeather(city)\n"
   ]
  },
  {
   "cell_type": "code",
   "execution_count": 71,
   "id": "9fece80a",
   "metadata": {},
   "outputs": [
    {
     "name": "stdout",
     "output_type": "stream",
     "text": [
      "          City  Temperature  Temp_Min  Temp_Max  Humidity      Description\n",
      "0  Los Angeles        15.11     13.72     16.35        89             mist\n",
      "1    Islamabad        13.80     13.80     13.80        51  overcast clouds\n",
      "2        Delhi        15.05     15.05     15.05        72             haze\n",
      "3      Seattle         5.12      2.25      8.15        94             mist\n"
     ]
    }
   ],
   "source": [
    "def extractData(weatherData):\n",
    "    extractedData = []\n",
    "    for city, data in weatherData.items():\n",
    "        if 'main' in data:\n",
    "            temp = data['main']['temp'] - 273.15  # Convert from Kelvin to Celsius\n",
    "            minTemp = data['main']['temp_min'] - 273.15\n",
    "            maxTemp = data['main']['temp_max'] - 273.15\n",
    "            humidity = data['main']['humidity']\n",
    "            description = data['weather'][0]['description']\n",
    "            extractedData.append({\n",
    "                'City': city, \n",
    "                'Temperature': temp, \n",
    "                'Temp_Min': minTemp, \n",
    "                'Temp_Max': maxTemp, \n",
    "                'Humidity': humidity, \n",
    "                'Description': description\n",
    "            })\n",
    "        else:\n",
    "            print(f\"Data for {city} is not in the expected format\")\n",
    "    return pd.DataFrame(extractedData)\n",
    "\n",
    "df = extractData(weatherData)\n",
    "print(df)\n"
   ]
  },
  {
   "cell_type": "markdown",
   "id": "524aaa47",
   "metadata": {},
   "source": [
    "Analysis:\n",
    "After extracting data using Python's 'requests' library to fetch data from the API, the JSON response was tranformed into a dataframe, and then the data was visualized using bar charts to compare the temparate and humidity. The temperature range was was also visualized."
   ]
  },
  {
   "cell_type": "markdown",
   "id": "333eb6fd",
   "metadata": {},
   "source": [
    "The following bar chart shows the average temperature in each city, highlighting the warmer climates of LA and Delhi compared to Seattle."
   ]
  },
  {
   "cell_type": "code",
   "execution_count": 70,
   "id": "175abedc",
   "metadata": {},
   "outputs": [
    {
     "data": {
      "image/png": "[encoded data removed]",
      "text/plain": [
       "<Figure size 720x432 with 1 Axes>"
      ]
     },
     "metadata": {
      "needs_background": "light"
     },
     "output_type": "display_data"
    }
   ],
   "source": [
    "plt.figure(figsize=(10, 6))\n",
    "plt.bar(df['City'], df['Temperature'], color='skyblue')\n",
    "plt.title('Temperature Comparison')\n",
    "plt.xlabel('City')\n",
    "plt.ylabel('Temperature (C)')\n",
    "plt.show()"
   ]
  },
  {
   "cell_type": "markdown",
   "id": "94119fa9",
   "metadata": {},
   "source": [
    "This following graph compares the humidity levels, showing a relatively lower humidity in Islamabad and Delhi."
   ]
  },
  {
   "cell_type": "code",
   "execution_count": 72,
   "id": "7740cfae",
   "metadata": {
    "scrolled": true
   },
   "outputs": [
    {
     "data": {
      "image/png": "[encoded data removed]",
      "text/plain": [
       "<Figure size 720x432 with 1 Axes>"
      ]
     },
     "metadata": {
      "needs_background": "light"
     },
     "output_type": "display_data"
    }
   ],
   "source": [
    "plt.figure(figsize=(10, 6))\n",
    "plt.bar(df['City'], df['Humidity'], color='lightgreen')\n",
    "plt.title('Humidity Comparison')\n",
    "plt.xlabel('City')\n",
    "plt.ylabel('Humidity (%)')\n",
    "plt.show()"
   ]
  },
  {
   "cell_type": "markdown",
   "id": "b6f54755",
   "metadata": {},
   "source": [
    "This visualization depicts the daily temperature variation in each city"
   ]
  },
  {
   "cell_type": "code",
   "execution_count": 68,
   "id": "707c55c2",
   "metadata": {},
   "outputs": [
    {
     "data": {
      "image/png": "[encoded data removed]",
      "text/plain": [
       "<Figure size 720x432 with 1 Axes>"
      ]
     },
     "metadata": {
      "needs_background": "light"
     },
     "output_type": "display_data"
    }
   ],
   "source": [
    "# Calculate the temperature range\n",
    "df['Temp_Range'] = df['Temp_Max'] - df['Temp_Min']\n",
    "\n",
    "# Plotting the temperature range\n",
    "plt.figure(figsize=(10, 6))\n",
    "plt.bar(df['City'], df['Temp_Range'], color='purple')\n",
    "plt.title('Temperature Range Comparison')\n",
    "plt.xlabel('City')\n",
    "plt.ylabel('Temperature Range (°C)')\n",
    "plt.show()"
   ]
  },
  {
   "cell_type": "markdown",
   "id": "59af6cd3",
   "metadata": {},
   "source": [
    "Here we have a dual plot, showing averagr temperature and humidity comparison:"
   ]
  },
  {
   "cell_type": "code",
   "execution_count": 73,
   "id": "36dde360",
   "metadata": {},
   "outputs": [
    {
     "data": {
      "image/png": "[encoded data removed]",
      "text/plain": [
       "<Figure size 1008x432 with 2 Axes>"
      ]
     },
     "metadata": {
      "needs_background": "light"
     },
     "output_type": "display_data"
    }
   ],
   "source": [
    "# Plotting average temperature and humidity\n",
    "plt.figure(figsize=(14, 6))\n",
    "\n",
    "# Temperature plot\n",
    "plt.subplot(1, 2, 1)\n",
    "plt.bar(df['City'], df['Temperature'], color='blue')\n",
    "plt.title('Average Temperature Comparison')\n",
    "plt.xlabel('City')\n",
    "plt.ylabel('Temperature (°C)')\n",
    "\n",
    "# Humidity plot\n",
    "plt.subplot(1, 2, 2)\n",
    "plt.bar(df['City'], df['Humidity'], color='green')\n",
    "plt.title('Humidity Comparison')\n",
    "plt.xlabel('City')\n",
    "plt.ylabel('Humidity (%)')\n",
    "\n",
    "plt.tight_layout()\n",
    "plt.show()\n"
   ]
  },
  {
   "cell_type": "markdown",
   "id": "7f770b29",
   "metadata": {},
   "source": [
    "Some key findings and insights I found:\n",
    "- Los Angeles and Seattle show higher temperature ranges, indicating significant variation between day and night temperatures. This makes sense knowing they are coastal cities.\n",
    "- Islamabad and Delhi have similar low humidity levels, but Delhi has a relatively higher temperature.\n",
    "- Seattle shows the lowest temperatures among all 4 cities, which is consistent with its climatic zone."
   ]
  },
  {
   "cell_type": "markdown",
   "id": "039fb5c3",
   "metadata": {},
   "source": [
    "This analysis provides a snapshot of different weather parameters across four diverse cities. Such insights can be valuable for various applications, from urban planning to tourism. I think this has potential for more analysis, such as:\n",
    "- Analyzing extended time period data, or observing seasonal variations\n",
    "- Factoring in additional parameters like wind speed or air quality\n",
    "- Going beyond these 4 cities and comparing them to other places around the world, which could help us see trends in global weather patterns.\n",
    "\n"
   ]
  },
  {
   "cell_type": "markdown",
   "id": "fc6c423b",
   "metadata": {},
   "source": [
    "# Above and Beyond: Comparison with Air Quality data"
   ]
  },
  {
   "cell_type": "markdown",
   "id": "48f4add3",
   "metadata": {},
   "source": [
    "Here, I chose to integrate my weather data by exploring the relationship between weather conditions (temperature and humidity) and air quality in the same  cities.\n",
    "First, I fetched air quality data from the World Air Quality Index API. Then I combined the data and performed a comparative analysis shown below:"
   ]
  },
  {
   "cell_type": "code",
   "execution_count": 74,
   "id": "50a1d0a3",
   "metadata": {},
   "outputs": [
    {
     "name": "stdout",
     "output_type": "stream",
     "text": [
      "          City  AQI\n",
      "0  Los Angeles   53\n",
      "1    Islamabad  251\n",
      "2        Delhi  241\n",
      "3      Seattle   25\n"
     ]
    }
   ],
   "source": [
    "aqiAPIKey = 'f9adc278aacc0547e18b88ccd87a9c31233a0790'\n",
    "aqiURL = 'http://api.waqi.info/feed/{}/?token={}'\n",
    "\n",
    "cities = ['Los Angeles', 'Islamabad', 'Delhi', 'Seattle']\n",
    "\n",
    "#fetching data\n",
    "def fetchAirQuality(city, aqiAPIKey):\n",
    "    response = requests.get(aqiURL.format(city, aqiAPIKey))\n",
    "    if response.status_code == 200:\n",
    "        return response.json()\n",
    "    else:\n",
    "        return None\n",
    "\n",
    "airQualityData = {city: fetchAirQuality(city, aqiAPIKey) for city in cities}\n",
    "\n",
    "# Extracting AQI data\n",
    "def extractAQIData(data):\n",
    "    aqiData = []\n",
    "    for city, details in data.items():\n",
    "        if details and 'data' in details and 'aqi' in details['data']:\n",
    "            aqiData.append({'City': city, 'AQI': details['data']['aqi']})\n",
    "        else:\n",
    "            aqiData.append({'City': city, 'AQI': None})\n",
    "    return pd.DataFrame(aqiData)\n",
    "\n",
    "aqi_df = extractAQIData(airQualityData)\n",
    "print(aqi_df)"
   ]
  },
  {
   "cell_type": "code",
   "execution_count": 75,
   "id": "c6cce3fd",
   "metadata": {},
   "outputs": [
    {
     "name": "stdout",
     "output_type": "stream",
     "text": [
      "          City  Temperature  Temp_Min  Temp_Max  Humidity      Description  \\\n",
      "0  Los Angeles        15.11     13.72     16.35        89             mist   \n",
      "1    Islamabad        13.80     13.80     13.80        51  overcast clouds   \n",
      "2        Delhi        15.05     15.05     15.05        72             haze   \n",
      "3      Seattle         5.12      2.25      8.15        94             mist   \n",
      "\n",
      "   AQI  \n",
      "0   53  \n",
      "1  251  \n",
      "2  241  \n",
      "3   25  \n"
     ]
    }
   ],
   "source": [
    "#combining datasets\n",
    "combined_df = pd.merge(df, aqi_df, on='City', how='inner')\n",
    "print(combined_df)"
   ]
  },
  {
   "cell_type": "code",
   "execution_count": 76,
   "id": "0924ee85",
   "metadata": {},
   "outputs": [
    {
     "data": {
      "image/png": "[encoded data removed]",
      "text/plain": [
       "<Figure size 864x432 with 2 Axes>"
      ]
     },
     "metadata": {
      "needs_background": "light"
     },
     "output_type": "display_data"
    }
   ],
   "source": [
    "#visualization: plotting temperature and AQI side-by-side\n",
    "plt.figure(figsize=(12, 6))\n",
    "plt.subplot(1, 2, 1)\n",
    "plt.bar(combined_df['City'], combined_df['Temperature'], color='blue')\n",
    "plt.title('Temperature')\n",
    "plt.ylabel('Temperature (C)')\n",
    "\n",
    "plt.subplot(1, 2, 2)\n",
    "plt.bar(combined_df['City'], combined_df['AQI'], color='red')\n",
    "plt.title('Air Quality Index')\n",
    "plt.ylabel('AQI')\n",
    "\n",
    "plt.tight_layout()\n",
    "plt.show()"
   ]
  },
  {
   "cell_type": "markdown",
   "id": "b650f1ba",
   "metadata": {},
   "source": [
    "There seems to be an inversely proportional relationship between temperature and AQI, and is most observable in Los Angeles and Seattle, although Islamabad and Delhi show the same relationship but it is more subtle. This could suggest that warmer air exacerbates air pollution, with potential factors being higher energy use, wildfires, or atmospheric conditions that trap pollutants. This pattern highlights the impact of climate and weather on urban air quality.\n",
    "We can also see that cities like Seattle, knownn for its cleaner air, shows a significantly lower AQI than cities like Delhi, which suffers from chronic air pollution.\n",
    "\n",
    "Understanding the relationship between weather conditions and air quality can help in formulating public health advisories and pollution control policies. For instance, on days with high temperatures and poor air quality, cities might issue health advisories to vulnerable populations like the elderly or those with respiratory issues.\n"
   ]
  }
 ],
 "metadata": {
  "kernelspec": {
   "display_name": "Python 3",
   "language": "python",
   "name": "python3"
  },
  "language_info": {
   "codemirror_mode": {
    "name": "ipython",
    "version": 3
   },
   "file_extension": ".py",
   "mimetype": "text/x-python",
   "name": "python",
   "nbconvert_exporter": "python",
   "pygments_lexer": "ipython3",
   "version": "3.8.8"
  }
 },
 "nbformat": 4,
 "nbformat_minor": 5
}
